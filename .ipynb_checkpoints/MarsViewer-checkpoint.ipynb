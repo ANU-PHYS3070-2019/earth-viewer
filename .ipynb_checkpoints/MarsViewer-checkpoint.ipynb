{
 "cells": [
  {
   "cell_type": "code",
   "execution_count": 1,
   "metadata": {},
   "outputs": [],
   "source": [
    "import viewer"
   ]
  },
  {
   "cell_type": "markdown",
   "metadata": {},
   "source": [
    "## Mars viewer\n",
    "\n",
    "The planet Mars, home of the world-famous \"Mars bar\" is also known for having a large population of spiders.\n",
    "\n",
    "Run the cell below to see an exaggerated topography of the planet coloured by height from the mean (please be patient, it takes some time to build the model).\n"
   ]
  },
  {
   "cell_type": "code",
   "execution_count": 2,
   "metadata": {},
   "outputs": [
    {
     "ename": "NameError",
     "evalue": "name 'mesh' is not defined",
     "output_type": "error",
     "traceback": [
      "\u001b[0;31m---------------------------------------------------------------------------\u001b[0m",
      "\u001b[0;31mNameError\u001b[0m                                 Traceback (most recent call last)",
      "\u001b[0;32m<ipython-input-2-e2f211fd9c09>\u001b[0m in \u001b[0;36m<module>\u001b[0;34m\u001b[0m\n\u001b[0;32m----> 1\u001b[0;31m \u001b[0mviewer\u001b[0m\u001b[0;34m.\u001b[0m\u001b[0mnew_viewer\u001b[0m\u001b[0;34m(\u001b[0m\u001b[0mmesh\u001b[0m\u001b[0;34m,\u001b[0m \u001b[0;34m\"MarsTopo3600x1800.tif\"\u001b[0m\u001b[0;34m)\u001b[0m\u001b[0;34m\u001b[0m\u001b[0;34m\u001b[0m\u001b[0m\n\u001b[0m",
      "\u001b[0;31mNameError\u001b[0m: name 'mesh' is not defined"
     ]
    }
   ],
   "source": [
    "viewer.new_viewer(\"MarsTopo3600x1800.tif\")"
   ]
  },
  {
   "cell_type": "markdown",
   "metadata": {},
   "source": [
    "## Moon Viewer"
   ]
  },
  {
   "cell_type": "markdown",
   "metadata": {},
   "source": [
    "## Venus viewer"
   ]
  },
  {
   "cell_type": "code",
   "execution_count": null,
   "metadata": {},
   "outputs": [],
   "source": [
    "topography_data = np.array(imageio.imread(\"VenusTopo3600x1800.tif\"))\n",
    "\n",
    "height = np.array(PIL.Image.fromarray(topography_data.view()).resize((res_lon,res_lat))).astype(float)\n",
    "hrange = height.max()-height.min()\n",
    "height0 = (height - height.min()) / hrange \n",
    "\n",
    "XX = mesh.XX\n",
    "YY = mesh.YY\n",
    "ZZ = mesh.ZZ\n",
    "\n",
    "lv1 = lavavu.Viewer(border=False, resolution=[1066,666], background=\"#FFFFFF\")\n",
    "lv1[\"axis\"]=False\n",
    "lv1['specular'] = 0.1\n",
    "\n",
    "shrink_surface = 1.0  + 0.05 * height0.reshape(-1)\n",
    "\n",
    "tris1 = lv1.triangles(\"surfacemap\",  wireframe=False, colour=\"#000000:0.0\")\n",
    "tris1.vertices([XX*shrink_surface, YY*shrink_surface, ZZ*shrink_surface])\n",
    "tris1.indices(mesh.simplices)\n",
    "tris1.texcoords([mesh.SS,mesh.TT])\n",
    "\n",
    "from matplotlib import cm\n",
    "from matplotlib.colors import Normalize\n",
    "\n",
    "terrain_norm = Normalize(vmin=-3000.0, vmax=3000.0)\n",
    "texdata = cm.terrain(terrain_norm(topography_data))\n",
    "tris1.texture(texdata, flip=False)\n",
    "\n",
    "lv1.control.Panel()\n",
    "lv1.control.ObjectList()                 \n",
    "lv1.control.show()"
   ]
  },
  {
   "cell_type": "code",
   "execution_count": null,
   "metadata": {},
   "outputs": [],
   "source": [
    "height.shape"
   ]
  },
  {
   "cell_type": "markdown",
   "metadata": {},
   "source": [
    "This is the control code for switch between different properties — I don't think this works\n",
    "for changing the texture map of a triangulation.\n",
    "\n",
    "```python\n",
    "lv.control.Panel()\n",
    "lv.control.Range('specular', range=(0,1), step=0.1, value=0.4)\n",
    "lv.control.Checkbox(property='axis')\n",
    "lv.control.ObjectList()\n",
    "tris.control.List(options=[\"original\", \"smoothed\", \"smoothed2\", \"smoothed3\",\n",
    "                   \"delta_n\", \"delta_ns\", \n",
    "                   \"delta_n2\", \"delta_ns2\", \n",
    "                   \"delta_n3\", \"delta_ns3\"], property=\"colourby\", value=\"original\", command=\"redraw\")\n",
    "lv.control.show()\n",
    "```"
   ]
  },
  {
   "cell_type": "code",
   "execution_count": null,
   "metadata": {},
   "outputs": [],
   "source": [
    "topography_data = np.array(imageio.imread(\"VenusTopo3600x1800.tif\"))\n",
    "\n",
    "height = np.array(PIL.Image.fromarray(topography_data.view()).resize((res_lon,res_lat))).astype(float)\n",
    "hrange = height.max()-height.min()\n",
    "height0 = (height - height.min()) / hrange \n",
    "\n",
    "\n",
    "XX = mesh.XX\n",
    "YY = mesh.YY\n",
    "ZZ = mesh.ZZ\n",
    "\n",
    "lv1 = lavavu.Viewer(border=False, resolution=[1066,666], background=\"#FFFFFF\")\n",
    "lv1[\"axis\"]=False\n",
    "lv1['specular'] = 0.1\n",
    "\n",
    "shrink_surface = 1.0  + 0.2 * height0.reshape(-1)\n",
    "\n",
    "tris1 = lv1.triangles(\"surface_height\",  wireframe=False, colour=\"#000000:0.0\")\n",
    "tris1.vertices([XX*shrink_surface, YY*shrink_surface, ZZ*shrink_surface])\n",
    "tris1.indices(mesh.simplices)\n",
    "tris1.texcoords([mesh.SS,mesh.TT])\n",
    "\n",
    "from matplotlib import cm\n",
    "from matplotlib.colors import Normalize\n",
    "\n",
    "terrain_norm = Normalize(vmin=-3000.0, vmax=3000.0)\n",
    "texdata = cm.terrain(terrain_norm(topography_data))\n",
    "tris1.texture(texdata, flip=False)\n",
    "\n",
    "\n",
    "\n",
    "tris2 = lv1.triangles(\"surface_radar\",  wireframe=False, colour=\"#000000:0.0\")\n",
    "tris2.vertices([XX*shrink_surface, YY*shrink_surface, ZZ*shrink_surface])\n",
    "tris2.indices(mesh.simplices)\n",
    "tris2.texcoords([mesh.SS,mesh.TT])\n",
    "\n",
    "texdata = imageio.imread(\"VenusRadarBrightness_4096x2048.tiff\")\n",
    "tris2.texture(texdata, flip=False)\n",
    "\n",
    "lv1.control.Panel()\n",
    "lv1.control.ObjectList()                 \n",
    "lv1.control.show()"
   ]
  },
  {
   "cell_type": "code",
   "execution_count": null,
   "metadata": {},
   "outputs": [],
   "source": []
  }
 ],
 "metadata": {
  "kernel_info": {
   "name": "python3"
  },
  "kernelspec": {
   "display_name": "Python 3",
   "language": "python",
   "name": "python3"
  },
  "language_info": {
   "codemirror_mode": {
    "name": "ipython",
    "version": 3
   },
   "file_extension": ".py",
   "mimetype": "text/x-python",
   "name": "python",
   "nbconvert_exporter": "python",
   "pygments_lexer": "ipython3",
   "version": "3.7.4"
  },
  "nteract": {
   "version": "0.15.0"
  }
 },
 "nbformat": 4,
 "nbformat_minor": 4
}
